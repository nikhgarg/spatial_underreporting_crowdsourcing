{
 "cells": [
  {
   "cell_type": "code",
   "execution_count": null,
   "metadata": {},
   "outputs": [],
   "source": [
    "import seaborn as sns\n",
    "import matplotlib.pyplot as plt\n",
    "import pandas as pd\n",
    "import numpy as np"
   ]
  },
  {
   "cell_type": "code",
   "execution_count": null,
   "metadata": {},
   "outputs": [],
   "source": [
    "#reload modules\n",
    "%load_ext autoreload\n",
    "%autoreload 2"
   ]
  },
  {
   "cell_type": "code",
   "execution_count": null,
   "metadata": {},
   "outputs": [],
   "source": [
    "import join_data as jd"
   ]
  },
  {
   "cell_type": "code",
   "execution_count": null,
   "metadata": {},
   "outputs": [],
   "source": [
    "from helpers import *"
   ]
  },
  {
   "cell_type": "code",
   "execution_count": null,
   "metadata": {},
   "outputs": [],
   "source": [
    "filesavelabel = 'publicdatacategory_'\n",
    "predicted_delays_filename = './data_est_report_delays/category_borough_interaction_model_delays.csv'\n",
    "\n",
    "# filesavelabel = 'publicdatarisk_'\n",
    "# predicted_delays_filename = './data_est_report_delays/risk_borough_interaction_model_delays.csv'"
   ]
  },
  {
   "attachments": {},
   "cell_type": "markdown",
   "metadata": {},
   "source": [
    "# Load and join the public data"
   ]
  },
  {
   "cell_type": "code",
   "execution_count": null,
   "metadata": {},
   "outputs": [],
   "source": [
    "mergeddfpublic = jd.pipeline(directory = '../data/', FSfilename = 'FSR_221022.csv', FIfilename = 'FI_221022.csv', FWOfilename = 'FWO_221022.csv', FRAfilename = 'FRA_221024.csv')"
   ]
  },
  {
   "cell_type": "code",
   "execution_count": null,
   "metadata": {},
   "outputs": [],
   "source": [
    "mergeddfpublic.columns"
   ]
  },
  {
   "attachments": {},
   "cell_type": "markdown",
   "metadata": {},
   "source": [
    "### Load + join model estimates for reporting delays"
   ]
  },
  {
   "attachments": {},
   "cell_type": "markdown",
   "metadata": {},
   "source": [
    "We have a dataframe where we have predicted report delays for many incidents (that were used to train the model). We also want to have predicted reporting delays for other incidents. So what we will do is extract coefficients from that dataframe (we can do this perfectly except for Bayesian noise) and apply the model to all the incidents."
   ]
  },
  {
   "cell_type": "code",
   "execution_count": null,
   "metadata": {},
   "outputs": [],
   "source": [
    "predicted_report_delays = pd.read_csv(predicted_delays_filename)\n",
    "predicted_report_delays = predicted_report_delays.rename(columns = {'SRID': 'OBJECTID', 'delay': 'reporting_delay'})"
   ]
  },
  {
   "cell_type": "code",
   "execution_count": null,
   "metadata": {},
   "outputs": [],
   "source": [
    "predicted_report_delays.head()"
   ]
  },
  {
   "cell_type": "code",
   "execution_count": null,
   "metadata": {},
   "outputs": [],
   "source": [
    "predicted_report_delays_joinedwithfeatures = pd.merge(predicted_report_delays, mergeddfpublic, on='OBJECTID', how='left', suffixes=('', '_public')).drop_duplicates(subset = 'OBJECTID')"
   ]
  },
  {
   "cell_type": "code",
   "execution_count": null,
   "metadata": {},
   "outputs": [],
   "source": [
    "predicted_report_delays.count()"
   ]
  },
  {
   "cell_type": "code",
   "execution_count": null,
   "metadata": {},
   "outputs": [],
   "source": [
    "predicted_report_delays_joinedwithfeatures.count()"
   ]
  },
  {
   "cell_type": "code",
   "execution_count": null,
   "metadata": {},
   "outputs": [],
   "source": [
    "#statsmodels from formula import\n",
    "import statsmodels.formula.api as smf"
   ]
  },
  {
   "cell_type": "code",
   "execution_count": null,
   "metadata": {},
   "outputs": [],
   "source": [
    "predicted_report_delays_joinedwithfeatures.columns"
   ]
  },
  {
   "cell_type": "code",
   "execution_count": null,
   "metadata": {},
   "outputs": [],
   "source": [
    "cols = ['SRCategory', 'Borough', 'RiskRating', 'InspectionTPCondition', 'TreePointDBH']\n",
    "\n",
    "predicted_report_delays_joinedwithfeatures.loc[:, 'reporting_rate'] = predicted_report_delays_joinedwithfeatures.eval('1/reporting_delay')\n",
    "\n",
    "predicted_report_delays_joinedwithfeatures.loc[:, 'log_reporting_rate'] = predicted_report_delays_joinedwithfeatures.eval('log(1/reporting_delay)')\n",
    "\n",
    "\n",
    "#regress reporting delay on category, borough, and risk\n",
    "model = smf.ols(formula='log_reporting_rate ~ 1 + C(SRCategory) + C(Borough) + C(Risk_coded) + C(Borough):C(SRCategory) + InspectionTPCondition + np.log(TreePointDBH + 1)', data=predicted_report_delays_joinedwithfeatures).fit()\n",
    "model.summary()"
   ]
  },
  {
   "cell_type": "code",
   "execution_count": null,
   "metadata": {},
   "outputs": [],
   "source": [
    "#now apply the model to nodups_rightdate\n",
    "predicted_report_delays_joinedwithfeatures['log_reporting_rate_predicted'] = model.predict(predicted_report_delays_joinedwithfeatures)\n",
    "predicted_report_delays_joinedwithfeatures['reporting_delay_predicted'] = predicted_report_delays_joinedwithfeatures.eval('1/exp(log_reporting_rate_predicted)')"
   ]
  },
  {
   "cell_type": "code",
   "execution_count": null,
   "metadata": {},
   "outputs": [],
   "source": [
    "sns.jointplot(x='reporting_delay_predicted', y='reporting_delay', data=predicted_report_delays_joinedwithfeatures.query('reporting_delay_predicted < 100 and reporting_delay < 100'), kind='hex')\n",
    "plt.xlim((0, 100))\n",
    "plt.ylim((0, 100))"
   ]
  },
  {
   "attachments": {},
   "cell_type": "markdown",
   "metadata": {},
   "source": [
    "Ok, we have a good model of reporting delays, we can apply it to all the public data now"
   ]
  },
  {
   "attachments": {},
   "cell_type": "markdown",
   "metadata": {},
   "source": [
    "# Delay analysis final data preparation"
   ]
  },
  {
   "attachments": {},
   "cell_type": "markdown",
   "metadata": {},
   "source": [
    "First, combine multiple reports of the same incident so that I have one row per unique incident. Take first inspection and report date as the right date."
   ]
  },
  {
   "cell_type": "code",
   "execution_count": null,
   "metadata": {},
   "outputs": [],
   "source": [
    "wofinishdatecolumn = 'ActualFinishDate' # 'WOClosedDate'"
   ]
  },
  {
   "cell_type": "code",
   "execution_count": null,
   "metadata": {},
   "outputs": [],
   "source": [
    "nodups = mergeddfpublic[['IncidentGlobalID','SRCategory','SRCreatedDate', 'InspectionDate',wofinishdatecolumn,'Risk_coded','RiskRating','Borough','InspectionTPCondition', 'InspectionTPStructure',\n",
    "       'TreePointDBH']].groupby('IncidentGlobalID').agg(\n",
    "    {'SRCreatedDate': 'min', 'InspectionDate': 'min', wofinishdatecolumn: 'min', 'SRCategory': 'first', 'Risk_coded': 'first', 'Borough': 'first', 'RiskRating': 'first', 'InspectionTPCondition': 'first', 'InspectionTPStructure': 'first',\n",
    "       'TreePointDBH': 'first'}).reset_index()\n",
    "nodups['inspection_delay'] = (nodups['InspectionDate'] - nodups['SRCreatedDate']).dt.total_seconds() / 3600 /24\n",
    "nodups['work_delay'] = (nodups[wofinishdatecolumn] - nodups['InspectionDate']).dt.total_seconds() / 3600 /24\n",
    "nodups[['SRCreatedDate','InspectionDate', wofinishdatecolumn]].describe(datetime_is_numeric=True)"
   ]
  },
  {
   "cell_type": "code",
   "execution_count": null,
   "metadata": {},
   "outputs": [],
   "source": [
    "nodups_rightdate = nodups[(nodups['SRCreatedDate'] >= '2017-06-30') & (nodups['SRCreatedDate'] < '2020-07-01')]"
   ]
  },
  {
   "cell_type": "code",
   "execution_count": null,
   "metadata": {},
   "outputs": [],
   "source": [
    "nodups_rightdate = nodups_rightdate[nodups_rightdate.SRCategory.isin(predicted_report_delays_joinedwithfeatures.SRCategory.unique())]"
   ]
  },
  {
   "cell_type": "code",
   "execution_count": null,
   "metadata": {},
   "outputs": [],
   "source": [
    "nodups_rightdate[['SRCreatedDate','InspectionDate', 'work_delay']].describe(datetime_is_numeric=True)"
   ]
  },
  {
   "cell_type": "code",
   "execution_count": null,
   "metadata": {},
   "outputs": [],
   "source": [
    "nodups_rightdate.loc[:,'log_reporting_rate'] = model.predict(nodups_rightdate)\n",
    "nodups_rightdate.loc[:,'reporting_delay'] = nodups_rightdate.eval('1/exp(log_reporting_rate)')"
   ]
  },
  {
   "cell_type": "code",
   "execution_count": null,
   "metadata": {},
   "outputs": [],
   "source": [
    "nodups_rightdate.count()"
   ]
  },
  {
   "cell_type": "code",
   "execution_count": null,
   "metadata": {},
   "outputs": [],
   "source": [
    "nodups_rightdate.groupby(['SRCategory', 'Borough'])['reporting_delay', 'inspection_delay', 'work_delay'].median()"
   ]
  },
  {
   "cell_type": "code",
   "execution_count": null,
   "metadata": {},
   "outputs": [],
   "source": [
    "#only looking at the inspected set\n",
    "nodups_rightdate = nodups_rightdate.dropna(subset = ['reporting_delay'])"
   ]
  },
  {
   "cell_type": "code",
   "execution_count": null,
   "metadata": {},
   "outputs": [],
   "source": [
    "addressed = nodups_rightdate.groupby(['SRCategory', 'Borough'])['inspection_delay', 'work_delay'].agg(lambda x: 1-np.mean(np.isnan(x))).reset_index()\n",
    "addressed"
   ]
  },
  {
   "cell_type": "code",
   "execution_count": null,
   "metadata": {},
   "outputs": [],
   "source": [
    "addressed = nodups_rightdate.groupby(['Risk_coded', 'Borough'])['inspection_delay', 'work_delay'].agg(lambda x: 1-np.mean(np.isnan(x))).reset_index()\n",
    "addressed"
   ]
  },
  {
   "cell_type": "code",
   "execution_count": null,
   "metadata": {},
   "outputs": [],
   "source": [
    "# #turn inpsection and work delays into rows instead of columns\n",
    "# addressed = addressed.melt(id_vars=['SRCategory', 'Borough'], value_vars=['inspection_delay', 'work_delay'], var_name='delay_type', value_name='percent_addressed')"
   ]
  },
  {
   "cell_type": "code",
   "execution_count": null,
   "metadata": {},
   "outputs": [],
   "source": [
    "# addressed = addressed.rename({'percent_addressed': 'Fraction addressed', 'delay_type': 'Action'}, axis=1)\n",
    "# addressed.loc[:, 'Action'] = addressed.loc[:, 'Action'].str.replace('inspection_delay', 'Inspection').str.replace('work_delay', 'Work order')\n",
    "# plot = sns.catplot(\n",
    "#     data=addressed.query('SRCategory == \"Hazard\" and Action==\"Work order\"'), kind=\"bar\",\n",
    "#     x=\"Borough\", y=\"Fraction addressed\", hue=\"Action\",\n",
    "#     errorbar=\"sd\", palette= ['green'], legend_out = False, #, alpha=.6, height=6\n",
    "#     order = ['Manhattan', 'Queens', 'Staten Island', 'Bronx', 'Brooklyn']\n",
    "# )\n",
    "# legend = plot._legend\n",
    "# legend.set_frame_on(False)\n",
    "# plt.ylim(0, 1.1)\n",
    "# plt.xlabel(None)\n",
    "# plt.savefig(f'plots/{filesavelabel}hazard_fractionaddressed.pdf', bbox_inches='tight')"
   ]
  },
  {
   "attachments": {},
   "cell_type": "markdown",
   "metadata": {},
   "source": [
    "# Plotting"
   ]
  },
  {
   "attachments": {},
   "cell_type": "markdown",
   "metadata": {},
   "source": [
    "<!-- ## What fraction of incidents are actually addressed -->"
   ]
  },
  {
   "attachments": {},
   "cell_type": "markdown",
   "metadata": {},
   "source": [
    "## Delays conditional on addressed"
   ]
  },
  {
   "cell_type": "code",
   "execution_count": null,
   "metadata": {},
   "outputs": [],
   "source": [
    "# plot_bar_by_type(nodups_rightdate, typecol = 'SRCategory', othergroupby = 'Borough', impute_missing_work_order = False, label = f'{filesavelabel}')"
   ]
  },
  {
   "cell_type": "code",
   "execution_count": null,
   "metadata": {},
   "outputs": [],
   "source": [
    "nodups_rightdate = nodups_rightdate.sort_values(by = 'Risk_coded', ascending = True)"
   ]
  },
  {
   "cell_type": "code",
   "execution_count": null,
   "metadata": {},
   "outputs": [],
   "source": [
    "import helpers"
   ]
  },
  {
   "cell_type": "code",
   "execution_count": null,
   "metadata": {},
   "outputs": [],
   "source": [
    "helpers.plot_bar_by_type(nodups_rightdate.dropna(subset = ['inspection_delay']), typecol = 'SRCategory', othergroupby = 'Borough', impute_missing_work_order = False, label = f'{filesavelabel}category_notimputed_')"
   ]
  },
  {
   "cell_type": "code",
   "execution_count": null,
   "metadata": {},
   "outputs": [],
   "source": [
    "helpers.plot_bar_by_type(nodups_rightdate.dropna(subset = ['inspection_delay']), typecol = 'SRCategory', othergroupby = 'Borough', impute_missing_work_order = True, label = f'{filesavelabel}category_imputed_')"
   ]
  },
  {
   "cell_type": "code",
   "execution_count": null,
   "metadata": {},
   "outputs": [],
   "source": []
  }
 ],
 "metadata": {
  "kernelspec": {
   "display_name": "base",
   "language": "python",
   "name": "python3"
  },
  "language_info": {
   "codemirror_mode": {
    "name": "ipython",
    "version": 3
   },
   "file_extension": ".py",
   "mimetype": "text/x-python",
   "name": "python",
   "nbconvert_exporter": "python",
   "pygments_lexer": "ipython3",
   "version": "3.11.0"
  },
  "orig_nbformat": 4
 },
 "nbformat": 4,
 "nbformat_minor": 2
}
