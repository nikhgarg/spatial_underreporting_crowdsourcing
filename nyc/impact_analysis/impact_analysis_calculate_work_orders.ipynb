{
 "cells": [
  {
   "cell_type": "code",
   "execution_count": 1,
   "metadata": {},
   "outputs": [],
   "source": [
    "import seaborn as sns\n",
    "import matplotlib.pyplot as plt\n",
    "import pandas as pd\n",
    "import numpy as np"
   ]
  },
  {
   "cell_type": "code",
   "execution_count": 2,
   "metadata": {},
   "outputs": [],
   "source": [
    "#reload modules\n",
    "%load_ext autoreload\n",
    "%autoreload 2"
   ]
  },
  {
   "cell_type": "code",
   "execution_count": 3,
   "metadata": {},
   "outputs": [],
   "source": [
    "import join_data as jd"
   ]
  },
  {
   "cell_type": "code",
   "execution_count": 4,
   "metadata": {},
   "outputs": [],
   "source": [
    "from helpers import *"
   ]
  },
  {
   "attachments": {},
   "cell_type": "markdown",
   "metadata": {},
   "source": [
    "# Load and join the public data"
   ]
  },
  {
   "cell_type": "code",
   "execution_count": 5,
   "metadata": {},
   "outputs": [],
   "source": [
    "mergeddfpublic = jd.pipeline(directory = '../data/', FSfilename = 'FSR_221022.csv', FIfilename = 'FI_221022.csv', FWOfilename = 'FWO_221022.csv', FRAfilename = 'FRA_221024.csv')"
   ]
  },
  {
   "cell_type": "code",
   "execution_count": 6,
   "metadata": {},
   "outputs": [
    {
     "data": {
      "text/plain": [
       "Index(['OBJECTID', 'SRCategory', 'SRType', 'SRPriority', 'SRSource',\n",
       "       'SRStatus', 'SRResolution', 'Borough', 'CommunityBoard',\n",
       "       'ServiceRequestParentGlobalID', 'GlobalID', 'InitiatedDate',\n",
       "       'SRClosedDate', 'SRCreatedDate', 'SRUpdatedDate', 'Descriptor1',\n",
       "       'ComplaintType', 'CallerZipCode', 'SRCallerType', 'Latitude',\n",
       "       'Longitude', 'Census Tract', 'NTA', 'SRGlobalID', 'InspectionType',\n",
       "       'InspectionStatus', 'InspectionTPCondition', 'InspectionTPStructure',\n",
       "       'TreePointDBH', 'InsGlobalID', 'InspectionDate', 'InsClosedDate',\n",
       "       'InsCreatedDate', 'InsUpdatedDate', 'ParentInspectionGlobalID',\n",
       "       'ReinspectionDate', 'Location', 'WOType', 'WOStatus', 'WOPriority',\n",
       "       'CancelReason', 'WOCategory', 'WOGlobalID', 'WOClosedDate',\n",
       "       'CancelDate', 'WOCreatedDate', 'WOUpdatedDate', 'WOEntity',\n",
       "       'PROJSTARTDATE', 'WOProject', 'RecommendedSpecies', 'Location_WO',\n",
       "       'RADefect', 'RADefectLocation', 'Failure', 'ImpactTarget',\n",
       "       'Consequence', 'RiskRating', 'RAGlobalID', 'RACreatedDate',\n",
       "       'FailureImpact', 'WorkOrderGlobalID', 'IncidentGlobalID',\n",
       "       'inspection_attached', 'wo_attached', 'Risk_coded'],\n",
       "      dtype='object')"
      ]
     },
     "execution_count": 6,
     "metadata": {},
     "output_type": "execute_result"
    }
   ],
   "source": [
    "mergeddfpublic.columns"
   ]
  },
  {
   "attachments": {},
   "cell_type": "markdown",
   "metadata": {},
   "source": [
    "# Calculate work order delays"
   ]
  },
  {
   "attachments": {},
   "cell_type": "markdown",
   "metadata": {},
   "source": [
    "First, combine multiple reports of the same incident so that I have one row per unique incident. If there are multiple inspections or work orders, grab date of the first inspection/work order"
   ]
  },
  {
   "cell_type": "code",
   "execution_count": 7,
   "metadata": {},
   "outputs": [],
   "source": [
    "nodups = mergeddfpublic[['IncidentGlobalID','SRCategory','SRCreatedDate', 'InspectionDate','WOClosedDate','Risk_coded','RiskRating','Borough','InspectionTPCondition', 'InspectionTPStructure',\n",
    "       'TreePointDBH']].groupby('IncidentGlobalID').agg(\n",
    "    {'SRCreatedDate': 'min', 'InspectionDate': 'min', 'WOClosedDate': 'min', 'SRCategory': 'first', 'Risk_coded': 'first', 'Borough': 'first', 'RiskRating': 'first', 'InspectionTPCondition': 'first', 'InspectionTPStructure': 'first',\n",
    "       'TreePointDBH': 'first'}).reset_index()"
   ]
  },
  {
   "cell_type": "code",
   "execution_count": 8,
   "metadata": {},
   "outputs": [],
   "source": [
    "# calculate inspection and work order delays\n",
    "nodups['inspection_delay'] = (nodups['InspectionDate'] - nodups['SRCreatedDate']).dt.total_seconds() / 3600 /24\n",
    "\n",
    "nodups['work_delay'] = (nodups['WOClosedDate'] - nodups['InspectionDate']).dt.total_seconds() / 3600 /24"
   ]
  },
  {
   "cell_type": "code",
   "execution_count": 20,
   "metadata": {},
   "outputs": [],
   "source": [
    "# nodups[['SRCreatedDate','InspectionDate', 'WOClosedDate']].describe(datetime_is_numeric=True)"
   ]
  },
  {
   "attachments": {},
   "cell_type": "markdown",
   "metadata": {},
   "source": [
    "# Work order delays for entire dataset"
   ]
  },
  {
   "cell_type": "code",
   "execution_count": 10,
   "metadata": {},
   "outputs": [
    {
     "data": {
      "text/plain": [
       "Risk_coded  Borough      \n",
       "A           Bronx             16.388484\n",
       "            Brooklyn           7.467645\n",
       "            Manhattan          4.382326\n",
       "            Queens             6.377083\n",
       "            Staten Island      5.178374\n",
       "B           Bronx             29.111644\n",
       "            Brooklyn           8.275231\n",
       "            Manhattan          6.153935\n",
       "            Queens             5.523611\n",
       "            Staten Island     12.178148\n",
       "C           Bronx             90.472789\n",
       "            Brooklyn          57.314537\n",
       "            Manhattan         10.674653\n",
       "            Queens            64.214329\n",
       "            Staten Island     67.229282\n",
       "D           Bronx            101.051655\n",
       "            Brooklyn          45.412083\n",
       "            Manhattan         25.443287\n",
       "            Queens            46.221424\n",
       "            Staten Island     81.078808\n",
       "E           Bronx            118.201736\n",
       "            Brooklyn                NaN\n",
       "            Queens           784.118704\n",
       "Unknown     Bronx             71.504549\n",
       "            Brooklyn         187.168125\n",
       "            Manhattan         58.463542\n",
       "            Queens            27.381944\n",
       "            Staten Island     33.245897\n",
       "Name: work_delay, dtype: float64"
      ]
     },
     "execution_count": 10,
     "metadata": {},
     "output_type": "execute_result"
    }
   ],
   "source": [
    "nodups.groupby(['Risk_coded', 'Borough'])['work_delay'].median()"
   ]
  },
  {
   "cell_type": "code",
   "execution_count": 11,
   "metadata": {},
   "outputs": [
    {
     "data": {
      "text/plain": [
       "SRCategory           Borough      \n",
       "Claims               Bronx                   NaN\n",
       "                     Brooklyn         385.130255\n",
       "                     Manhattan               NaN\n",
       "                     Queens                  NaN\n",
       "                     Staten Island           NaN\n",
       "Hazard               Bronx              8.629167\n",
       "                     Brooklyn          16.270197\n",
       "                     Manhattan          5.289977\n",
       "                     Queens             7.270787\n",
       "                     Staten Island      7.930249\n",
       "Illegal Tree Damage  Bronx            114.000914\n",
       "                     Brooklyn          88.127818\n",
       "                     Manhattan         19.319444\n",
       "                     Queens            64.876053\n",
       "                     Staten Island     81.797541\n",
       "Pest/Disease         Bronx            382.103455\n",
       "                     Brooklyn          82.548964\n",
       "                     Manhattan        112.770127\n",
       "                     Queens           180.134097\n",
       "                     Staten Island     44.095990\n",
       "Plant Tree           Bronx            412.154560\n",
       "                     Brooklyn         455.864039\n",
       "                     Manhattan        489.514034\n",
       "                     Queens           475.778472\n",
       "                     Staten Island    424.230914\n",
       "Planting Space       Bronx                   NaN\n",
       "                     Brooklyn                NaN\n",
       "                     Manhattan         76.243704\n",
       "                     Queens            59.474653\n",
       "                     Staten Island     53.675359\n",
       "Prune                Bronx             86.106319\n",
       "                     Brooklyn          92.177882\n",
       "                     Manhattan         74.010075\n",
       "                     Queens            39.340972\n",
       "                     Staten Island     57.056036\n",
       "Remove Debris        Bronx             78.197263\n",
       "                     Brooklyn           6.007963\n",
       "                     Manhattan          1.017865\n",
       "                     Queens             4.200428\n",
       "                     Staten Island      1.173623\n",
       "Remove Stump         Bronx            109.204942\n",
       "                     Brooklyn         124.395793\n",
       "                     Manhattan         41.212303\n",
       "                     Queens            99.615278\n",
       "                     Staten Island    316.365370\n",
       "Remove Tree          Bronx            122.265932\n",
       "                     Brooklyn          79.113785\n",
       "                     Manhattan         46.336111\n",
       "                     Queens            55.149497\n",
       "                     Staten Island     85.484028\n",
       "Rescue/Preservation  Bronx            122.941053\n",
       "                     Brooklyn          76.087616\n",
       "                     Manhattan         27.250405\n",
       "                     Queens            64.383796\n",
       "                     Staten Island    115.032558\n",
       "Root/Sewer/Sidewalk  Bronx            644.553293\n",
       "                     Brooklyn         710.910243\n",
       "                     Manhattan        398.425127\n",
       "                     Queens           592.087350\n",
       "                     Staten Island    776.594242\n",
       "Name: work_delay, dtype: float64"
      ]
     },
     "execution_count": 11,
     "metadata": {},
     "output_type": "execute_result"
    }
   ],
   "source": [
    "nodups.groupby(['SRCategory', 'Borough'])['work_delay'].median()"
   ]
  },
  {
   "attachments": {},
   "cell_type": "markdown",
   "metadata": {},
   "source": [
    "# If an incident got inspected but no work order, pretend it had a really long work order delay"
   ]
  },
  {
   "cell_type": "code",
   "execution_count": 12,
   "metadata": {},
   "outputs": [],
   "source": [
    "nodups_imputed = nodups.copy()\n",
    "nodups_imputed.loc[:, 'work_delay'] = nodups_imputed['work_delay'].fillna(10000)"
   ]
  },
  {
   "cell_type": "code",
   "execution_count": 13,
   "metadata": {},
   "outputs": [],
   "source": [
    "# only look at inspected incidents\n",
    "nodups_imputed = nodups_imputed.dropna(subset = ['inspection_delay'])"
   ]
  },
  {
   "cell_type": "code",
   "execution_count": 14,
   "metadata": {},
   "outputs": [
    {
     "data": {
      "text/plain": [
       "Risk_coded  Borough      \n",
       "A           Bronx               21.097685\n",
       "            Brooklyn             8.365266\n",
       "            Manhattan            4.395139\n",
       "            Queens               7.198299\n",
       "            Staten Island        6.110087\n",
       "B           Bronx               41.006204\n",
       "            Brooklyn            10.303044\n",
       "            Manhattan            6.338542\n",
       "            Queens               6.527824\n",
       "            Staten Island       13.875046\n",
       "C           Bronx              343.638825\n",
       "            Brooklyn           133.986632\n",
       "            Manhattan           12.524618\n",
       "            Queens             185.751047\n",
       "            Staten Island      141.998519\n",
       "D           Bronx            10000.000000\n",
       "            Brooklyn         10000.000000\n",
       "            Manhattan          127.253889\n",
       "            Queens           10000.000000\n",
       "            Staten Island    10000.000000\n",
       "E           Bronx            10000.000000\n",
       "            Brooklyn         10000.000000\n",
       "            Queens           10000.000000\n",
       "Unknown     Bronx              418.027072\n",
       "            Brooklyn           574.590278\n",
       "            Manhattan          526.399300\n",
       "            Queens             355.179757\n",
       "            Staten Island      230.157500\n",
       "Name: work_delay, dtype: float64"
      ]
     },
     "execution_count": 14,
     "metadata": {},
     "output_type": "execute_result"
    }
   ],
   "source": [
    "nodups_imputed.groupby(['Risk_coded', 'Borough'])['work_delay'].median()"
   ]
  },
  {
   "cell_type": "code",
   "execution_count": 15,
   "metadata": {},
   "outputs": [
    {
     "data": {
      "text/plain": [
       "SRCategory           Borough      \n",
       "Claims               Bronx            10000.000000\n",
       "                     Brooklyn           385.130255\n",
       "                     Queens           10000.000000\n",
       "Hazard               Bronx              246.685694\n",
       "                     Brooklyn           419.954792\n",
       "                     Manhattan            7.187106\n",
       "                     Queens              76.919387\n",
       "                     Staten Island       28.044745\n",
       "Illegal Tree Damage  Bronx            10000.000000\n",
       "                     Brooklyn         10000.000000\n",
       "                     Manhattan        10000.000000\n",
       "                     Queens           10000.000000\n",
       "                     Staten Island    10000.000000\n",
       "Pest/Disease         Bronx            10000.000000\n",
       "                     Brooklyn         10000.000000\n",
       "                     Manhattan        10000.000000\n",
       "                     Queens           10000.000000\n",
       "                     Staten Island    10000.000000\n",
       "Plant Tree           Bronx              476.910486\n",
       "                     Brooklyn           540.624306\n",
       "                     Manhattan         1027.566082\n",
       "                     Queens             533.893872\n",
       "                     Staten Island      449.400694\n",
       "Planting Space       Bronx            10000.000000\n",
       "                     Brooklyn         10000.000000\n",
       "                     Manhattan        10000.000000\n",
       "                     Queens           10000.000000\n",
       "                     Staten Island       53.675359\n",
       "Prune                Bronx            10000.000000\n",
       "                     Brooklyn         10000.000000\n",
       "                     Manhattan          349.974919\n",
       "                     Queens           10000.000000\n",
       "                     Staten Island      327.816238\n",
       "Remove Debris        Bronx            10000.000000\n",
       "                     Brooklyn         10000.000000\n",
       "                     Manhattan         5002.540191\n",
       "                     Queens              22.112263\n",
       "                     Staten Island        3.029502\n",
       "Remove Stump         Bronx            10000.000000\n",
       "                     Brooklyn         10000.000000\n",
       "                     Manhattan          566.892095\n",
       "                     Queens           10000.000000\n",
       "                     Staten Island    10000.000000\n",
       "Remove Tree          Bronx              751.039410\n",
       "                     Brooklyn           455.460417\n",
       "                     Manhattan           98.275741\n",
       "                     Queens             909.189039\n",
       "                     Staten Island      251.905116\n",
       "Rescue/Preservation  Bronx            10000.000000\n",
       "                     Brooklyn           373.000799\n",
       "                     Manhattan           63.984074\n",
       "                     Queens           10000.000000\n",
       "                     Staten Island      174.875972\n",
       "Root/Sewer/Sidewalk  Bronx            10000.000000\n",
       "                     Brooklyn         10000.000000\n",
       "                     Manhattan        10000.000000\n",
       "                     Queens           10000.000000\n",
       "                     Staten Island    10000.000000\n",
       "Name: work_delay, dtype: float64"
      ]
     },
     "execution_count": 15,
     "metadata": {},
     "output_type": "execute_result"
    }
   ],
   "source": [
    "nodups_imputed.groupby(['SRCategory', 'Borough'])['work_delay'].median()"
   ]
  },
  {
   "attachments": {},
   "cell_type": "markdown",
   "metadata": {},
   "source": [
    "# Only look at 2017 - 2020 like in the paper, and other filtering (e.g., where reports are defined, subset of categories)"
   ]
  },
  {
   "cell_type": "code",
   "execution_count": 16,
   "metadata": {},
   "outputs": [],
   "source": [
    "# filter to categories that we're analysing in the paper\n",
    "nodups = nodups[nodups['SRCategory'].isin(['Hazard', 'Remove Tree', 'Root/Sewer/Sidewalk', 'Prune','Illegal Tree Damage'])]\n",
    "\n",
    "#if these fields are NA we didn't have data to calculate reporting delay\n",
    "nodups = nodups.dropna(subset = ['RiskRating', 'Borough', 'SRCategory', 'Risk_coded', 'InspectionTPCondition', 'TreePointDBH'])"
   ]
  },
  {
   "cell_type": "code",
   "execution_count": 17,
   "metadata": {},
   "outputs": [],
   "source": [
    "nodups_rightdate = nodups[(nodups['SRCreatedDate'] >= '2017-06-30') & (nodups['SRCreatedDate'] < '2020-07-01')]\n",
    "\n",
    "nodups_right_dateimputed = nodups_rightdate.copy()\n",
    "nodups_right_dateimputed.loc[:, 'work_delay'] = nodups_right_dateimputed['work_delay'].fillna(10000)\n",
    "# only look at inspected incidents\n",
    "nodups_right_dateimputed = nodups_right_dateimputed.dropna(subset = ['inspection_delay'])"
   ]
  },
  {
   "cell_type": "code",
   "execution_count": 18,
   "metadata": {},
   "outputs": [
    {
     "data": {
      "text/plain": [
       "Risk_coded  Borough      \n",
       "A           Bronx             17.202182\n",
       "            Brooklyn           5.016273\n",
       "            Manhattan          5.180764\n",
       "            Queens             6.925162\n",
       "            Staten Island      8.834097\n",
       "B           Bronx             38.717882\n",
       "            Brooklyn           7.333524\n",
       "            Manhattan          6.309028\n",
       "            Queens             6.267558\n",
       "            Staten Island     24.991609\n",
       "C           Bronx            145.983785\n",
       "            Brooklyn          69.962025\n",
       "            Manhattan         11.397917\n",
       "            Queens            84.372361\n",
       "            Staten Island    126.019931\n",
       "D           Bronx            161.926979\n",
       "            Brooklyn          64.545139\n",
       "            Manhattan         35.588889\n",
       "            Queens            76.386285\n",
       "            Staten Island    130.341302\n",
       "E           Bronx            118.201736\n",
       "            Brooklyn                NaN\n",
       "            Queens           895.154317\n",
       "Unknown     Bronx            146.188299\n",
       "            Brooklyn          18.236875\n",
       "            Manhattan         30.513889\n",
       "            Queens             7.263368\n",
       "            Staten Island      9.499167\n",
       "Name: work_delay, dtype: float64"
      ]
     },
     "execution_count": 18,
     "metadata": {},
     "output_type": "execute_result"
    }
   ],
   "source": [
    "nodups_rightdate.dropna(subset = ['inspection_delay']).groupby(['Risk_coded', 'Borough'])['work_delay'].median()"
   ]
  },
  {
   "cell_type": "code",
   "execution_count": 19,
   "metadata": {},
   "outputs": [
    {
     "data": {
      "text/plain": [
       "Risk_coded  Borough      \n",
       "A           Bronx               25.121956\n",
       "            Brooklyn             5.672222\n",
       "            Manhattan            5.317361\n",
       "            Queens               7.239653\n",
       "            Staten Island       11.886979\n",
       "B           Bronx               57.086493\n",
       "            Brooklyn             8.670833\n",
       "            Manhattan            6.372222\n",
       "            Queens               7.237176\n",
       "            Staten Island       31.019300\n",
       "C           Bronx              404.543397\n",
       "            Brooklyn           131.293727\n",
       "            Manhattan           14.334375\n",
       "            Queens             156.236748\n",
       "            Staten Island      187.110272\n",
       "D           Bronx            10000.000000\n",
       "            Brooklyn         10000.000000\n",
       "            Manhattan          120.514931\n",
       "            Queens           10000.000000\n",
       "            Staten Island    10000.000000\n",
       "E           Bronx            10000.000000\n",
       "            Brooklyn         10000.000000\n",
       "            Queens           10000.000000\n",
       "Unknown     Bronx              237.741574\n",
       "            Brooklyn            44.228924\n",
       "            Manhattan           53.298420\n",
       "            Queens              10.089051\n",
       "            Staten Island       10.508594\n",
       "Name: work_delay, dtype: float64"
      ]
     },
     "execution_count": 19,
     "metadata": {},
     "output_type": "execute_result"
    }
   ],
   "source": [
    "# with imputation\n",
    "nodups_right_dateimputed.groupby(['Risk_coded', 'Borough'])['work_delay'].median()"
   ]
  }
 ],
 "metadata": {
  "kernelspec": {
   "display_name": "underreportreplicate",
   "language": "python",
   "name": "python3"
  },
  "language_info": {
   "codemirror_mode": {
    "name": "ipython",
    "version": 3
   },
   "file_extension": ".py",
   "mimetype": "text/x-python",
   "name": "python",
   "nbconvert_exporter": "python",
   "pygments_lexer": "ipython3",
   "version": "3.11.0"
  },
  "orig_nbformat": 4
 },
 "nbformat": 4,
 "nbformat_minor": 2
}
