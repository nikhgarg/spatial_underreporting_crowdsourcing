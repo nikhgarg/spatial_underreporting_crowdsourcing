{
 "cells": [
  {
   "cell_type": "code",
   "execution_count": 17,
   "metadata": {},
   "outputs": [],
   "source": [
    "import seaborn as sns\n",
    "import matplotlib.pyplot as plt\n",
    "import pandas as pd\n",
    "import numpy as np"
   ]
  },
  {
   "cell_type": "code",
   "execution_count": 18,
   "metadata": {},
   "outputs": [
    {
     "name": "stdout",
     "output_type": "stream",
     "text": [
      "The autoreload extension is already loaded. To reload it, use:\n",
      "  %reload_ext autoreload\n"
     ]
    }
   ],
   "source": [
    "#reload modules\n",
    "%load_ext autoreload\n",
    "%autoreload 2"
   ]
  },
  {
   "cell_type": "code",
   "execution_count": 19,
   "metadata": {},
   "outputs": [],
   "source": [
    "import join_data as jd"
   ]
  },
  {
   "cell_type": "code",
   "execution_count": 20,
   "metadata": {},
   "outputs": [],
   "source": [
    "from helpers import *"
   ]
  },
  {
   "attachments": {},
   "cell_type": "markdown",
   "metadata": {},
   "source": [
    "# Load and join the public data"
   ]
  },
  {
   "cell_type": "code",
   "execution_count": 21,
   "metadata": {},
   "outputs": [],
   "source": [
    "mergeddfpublic = jd.pipeline(directory = '../data/', FSfilename = 'FSR_221022.csv', FIfilename = 'FI_221022.csv', FWOfilename = 'FWO_221022.csv', FRAfilename = 'FRA_221024.csv')"
   ]
  },
  {
   "cell_type": "code",
   "execution_count": 22,
   "metadata": {},
   "outputs": [
    {
     "data": {
      "text/plain": [
       "Index(['OBJECTID', 'SRCategory', 'SRType', 'SRPriority', 'SRSource',\n",
       "       'SRStatus', 'SRResolution', 'Borough', 'CommunityBoard',\n",
       "       'ServiceRequestParentGlobalID', 'GlobalID', 'InitiatedDate',\n",
       "       'SRClosedDate', 'SRCreatedDate', 'SRUpdatedDate', 'Descriptor1',\n",
       "       'ComplaintType', 'CallerZipCode', 'SRCallerType', 'Latitude',\n",
       "       'Longitude', 'Census Tract', 'NTA', 'SRGlobalID', 'InspectionType',\n",
       "       'InspectionStatus', 'InspectionTPCondition', 'InspectionTPStructure',\n",
       "       'TreePointDBH', 'InsGlobalID', 'InspectionDate', 'InsClosedDate',\n",
       "       'InsCreatedDate', 'InsUpdatedDate', 'ParentInspectionGlobalID',\n",
       "       'ReinspectionDate', 'Location', 'WOType', 'WOStatus', 'WOPriority',\n",
       "       'ActualFinishDate', 'CancelReason', 'WOCategory', 'WOGlobalID',\n",
       "       'WOClosedDate', 'CancelDate', 'WOCreatedDate', 'WOUpdatedDate',\n",
       "       'WOEntity', 'PROJSTARTDATE', 'WOProject', 'RecommendedSpecies',\n",
       "       'Location_WO', 'RADefect', 'RADefectLocation', 'Failure',\n",
       "       'ImpactTarget', 'Consequence', 'RiskRating', 'RAGlobalID',\n",
       "       'RACreatedDate', 'FailureImpact', 'WorkOrderGlobalID',\n",
       "       'IncidentGlobalID', 'inspection_attached', 'wo_attached', 'Risk_coded'],\n",
       "      dtype='object')"
      ]
     },
     "execution_count": 22,
     "metadata": {},
     "output_type": "execute_result"
    }
   ],
   "source": [
    "mergeddfpublic.columns"
   ]
  },
  {
   "attachments": {},
   "cell_type": "markdown",
   "metadata": {},
   "source": [
    "# Calculate work order delays"
   ]
  },
  {
   "attachments": {},
   "cell_type": "markdown",
   "metadata": {},
   "source": [
    "First, combine multiple reports of the same incident so that I have one row per unique incident. If there are multiple inspections or work orders, grab date of the first inspection/work order"
   ]
  },
  {
   "cell_type": "code",
   "execution_count": 23,
   "metadata": {},
   "outputs": [],
   "source": [
    "nodups = mergeddfpublic[['IncidentGlobalID','SRCategory','SRCreatedDate', 'InspectionDate','WOClosedDate','Risk_coded','RiskRating','Borough','InspectionTPCondition', 'InspectionTPStructure',\n",
    "       'TreePointDBH', 'ActualFinishDate']].groupby('IncidentGlobalID').agg(\n",
    "    {'SRCreatedDate': 'min', 'InspectionDate': 'min', 'WOClosedDate': 'min', 'SRCategory': 'first', 'Risk_coded': 'first', 'Borough': 'first', 'RiskRating': 'first', 'InspectionTPCondition': 'first', 'InspectionTPStructure': 'first',\n",
    "       'TreePointDBH': 'first', 'ActualFinishDate':'min'}).reset_index()"
   ]
  },
  {
   "cell_type": "code",
   "execution_count": 24,
   "metadata": {},
   "outputs": [],
   "source": [
    "wofinishdatecolumn = 'ActualFinishDate' # 'WOClosedDate'"
   ]
  },
  {
   "cell_type": "code",
   "execution_count": 25,
   "metadata": {},
   "outputs": [],
   "source": [
    "# calculate inspection and work order delays\n",
    "nodups['inspection_delay'] = (nodups['InspectionDate'] - nodups['SRCreatedDate']).dt.total_seconds() / 3600 /24\n",
    "\n",
    "nodups['work_delay'] = (nodups[wofinishdatecolumn] - nodups['InspectionDate']).dt.total_seconds() / 3600 /24"
   ]
  },
  {
   "cell_type": "code",
   "execution_count": 26,
   "metadata": {},
   "outputs": [],
   "source": [
    "# nodups[['SRCreatedDate','InspectionDate', 'WOClosedDate']].describe(datetime_is_numeric=True)"
   ]
  },
  {
   "attachments": {},
   "cell_type": "markdown",
   "metadata": {},
   "source": [
    "# Work order delays for entire dataset"
   ]
  },
  {
   "cell_type": "code",
   "execution_count": 27,
   "metadata": {},
   "outputs": [
    {
     "data": {
      "text/plain": [
       "Risk_coded  Borough      \n",
       "A           Bronx             11.792222\n",
       "            Brooklyn           3.405434\n",
       "            Manhattan          0.000000\n",
       "            Queens             4.743808\n",
       "            Staten Island      1.809034\n",
       "B           Bronx             21.696991\n",
       "            Brooklyn           5.441887\n",
       "            Manhattan          0.188866\n",
       "            Queens             4.000000\n",
       "            Staten Island      8.050463\n",
       "C           Bronx             59.858600\n",
       "            Brooklyn          47.771696\n",
       "            Manhattan          5.571875\n",
       "            Queens            50.744803\n",
       "            Staten Island     58.667078\n",
       "D           Bronx             56.595041\n",
       "            Brooklyn          33.000000\n",
       "            Manhattan         16.502072\n",
       "            Queens            24.643623\n",
       "            Staten Island     65.629676\n",
       "E           Bronx             57.583333\n",
       "            Brooklyn                NaN\n",
       "            Queens           740.541042\n",
       "Unknown     Bronx             40.590521\n",
       "            Brooklyn          95.620440\n",
       "            Manhattan         36.021759\n",
       "            Queens            19.000000\n",
       "            Staten Island     21.000000\n",
       "Name: work_delay, dtype: float64"
      ]
     },
     "execution_count": 27,
     "metadata": {},
     "output_type": "execute_result"
    }
   ],
   "source": [
    "nodups.groupby(['Risk_coded', 'Borough'])['work_delay'].median()"
   ]
  },
  {
   "cell_type": "code",
   "execution_count": 28,
   "metadata": {},
   "outputs": [
    {
     "data": {
      "text/plain": [
       "SRCategory           Borough      \n",
       "Claims               Bronx                   NaN\n",
       "                     Brooklyn         381.703866\n",
       "                     Manhattan               NaN\n",
       "                     Queens                  NaN\n",
       "                     Staten Island           NaN\n",
       "Hazard               Bronx              3.948611\n",
       "                     Brooklyn           9.641528\n",
       "                     Manhattan          0.800532\n",
       "                     Queens             5.000000\n",
       "                     Staten Island      4.348831\n",
       "Illegal Tree Damage  Bronx             97.520683\n",
       "                     Brooklyn          60.833333\n",
       "                     Manhattan          8.000000\n",
       "                     Queens            42.654676\n",
       "                     Staten Island     74.764884\n",
       "Pest/Disease         Bronx             68.852049\n",
       "                     Brooklyn          98.681308\n",
       "                     Manhattan         26.586088\n",
       "                     Queens           211.958333\n",
       "                     Staten Island     41.487934\n",
       "Plant Tree           Bronx            159.627593\n",
       "                     Brooklyn         230.761400\n",
       "                     Manhattan        339.795179\n",
       "                     Queens           206.547326\n",
       "                     Staten Island    150.477025\n",
       "Planting Space       Bronx                   NaN\n",
       "                     Brooklyn                NaN\n",
       "                     Manhattan         52.573600\n",
       "                     Queens            43.041667\n",
       "                     Staten Island     50.806956\n",
       "Prune                Bronx             53.530313\n",
       "                     Brooklyn          63.958333\n",
       "                     Manhattan         52.847697\n",
       "                     Queens            20.829543\n",
       "                     Staten Island     37.544005\n",
       "Remove Debris        Bronx             62.935301\n",
       "                     Brooklyn           0.579109\n",
       "                     Manhattan          0.036968\n",
       "                     Queens             3.502975\n",
       "                     Staten Island      0.452789\n",
       "Remove Stump         Bronx            118.532361\n",
       "                     Brooklyn          74.782708\n",
       "                     Manhattan         29.277263\n",
       "                     Queens            71.000000\n",
       "                     Staten Island    210.183675\n",
       "Remove Tree          Bronx             92.722946\n",
       "                     Brooklyn          63.000000\n",
       "                     Manhattan         38.958333\n",
       "                     Queens            38.000000\n",
       "                     Staten Island     75.000000\n",
       "Rescue/Preservation  Bronx            107.399508\n",
       "                     Brooklyn          58.621910\n",
       "                     Manhattan         28.477199\n",
       "                     Queens            49.076962\n",
       "                     Staten Island    111.080961\n",
       "Root/Sewer/Sidewalk  Bronx            566.725336\n",
       "                     Brooklyn         647.680185\n",
       "                     Manhattan        401.041667\n",
       "                     Queens           550.713299\n",
       "                     Staten Island    622.700544\n",
       "Name: work_delay, dtype: float64"
      ]
     },
     "execution_count": 28,
     "metadata": {},
     "output_type": "execute_result"
    }
   ],
   "source": [
    "nodups.groupby(['SRCategory', 'Borough'])['work_delay'].median()"
   ]
  },
  {
   "attachments": {},
   "cell_type": "markdown",
   "metadata": {},
   "source": [
    "# If an incident got inspected but no work order, pretend it had a really long work order delay"
   ]
  },
  {
   "cell_type": "code",
   "execution_count": 29,
   "metadata": {},
   "outputs": [],
   "source": [
    "nodups_imputed = nodups.copy()\n",
    "nodups_imputed.loc[:, 'work_delay'] = nodups_imputed['work_delay'].fillna(10000)"
   ]
  },
  {
   "cell_type": "code",
   "execution_count": 30,
   "metadata": {},
   "outputs": [],
   "source": [
    "# only look at inspected incidents\n",
    "nodups_imputed = nodups_imputed.dropna(subset = ['inspection_delay'])"
   ]
  },
  {
   "cell_type": "code",
   "execution_count": 31,
   "metadata": {},
   "outputs": [
    {
     "data": {
      "text/plain": [
       "Risk_coded  Borough      \n",
       "A           Bronx               14.901690\n",
       "            Brooklyn             5.000000\n",
       "            Manhattan            0.000000\n",
       "            Queens               6.598009\n",
       "            Staten Island        3.423032\n",
       "B           Bronx               35.597049\n",
       "            Brooklyn             7.530833\n",
       "            Manhattan            0.587731\n",
       "            Queens               5.773113\n",
       "            Staten Island       11.434178\n",
       "C           Bronx              493.249213\n",
       "            Brooklyn           139.904190\n",
       "            Manhattan            8.195839\n",
       "            Queens             275.343646\n",
       "            Staten Island      158.419873\n",
       "D           Bronx            10000.000000\n",
       "            Brooklyn         10000.000000\n",
       "            Manhattan          131.717755\n",
       "            Queens           10000.000000\n",
       "            Staten Island    10000.000000\n",
       "E           Bronx            10000.000000\n",
       "            Brooklyn         10000.000000\n",
       "            Queens           10000.000000\n",
       "Unknown     Bronx              306.679028\n",
       "            Brooklyn           546.851956\n",
       "            Manhattan          549.041667\n",
       "            Queens             237.358287\n",
       "            Staten Island      146.856551\n",
       "Name: work_delay, dtype: float64"
      ]
     },
     "execution_count": 31,
     "metadata": {},
     "output_type": "execute_result"
    }
   ],
   "source": [
    "nodups_imputed.groupby(['Risk_coded', 'Borough'])['work_delay'].median()"
   ]
  },
  {
   "cell_type": "code",
   "execution_count": 32,
   "metadata": {},
   "outputs": [
    {
     "data": {
      "text/plain": [
       "SRCategory           Borough      \n",
       "Claims               Bronx            10000.000000\n",
       "                     Brooklyn           381.703866\n",
       "                     Queens           10000.000000\n",
       "Hazard               Bronx              457.422263\n",
       "                     Brooklyn         10000.000000\n",
       "                     Manhattan            1.958333\n",
       "                     Queens             116.566065\n",
       "                     Staten Island       29.742998\n",
       "Illegal Tree Damage  Bronx            10000.000000\n",
       "                     Brooklyn         10000.000000\n",
       "                     Manhattan        10000.000000\n",
       "                     Queens           10000.000000\n",
       "                     Staten Island    10000.000000\n",
       "Pest/Disease         Bronx            10000.000000\n",
       "                     Brooklyn         10000.000000\n",
       "                     Manhattan        10000.000000\n",
       "                     Queens           10000.000000\n",
       "                     Staten Island    10000.000000\n",
       "Plant Tree           Bronx              240.704144\n",
       "                     Brooklyn           384.572708\n",
       "                     Manhattan        10000.000000\n",
       "                     Queens             320.592731\n",
       "                     Staten Island      254.814763\n",
       "Planting Space       Bronx            10000.000000\n",
       "                     Brooklyn         10000.000000\n",
       "                     Manhattan        10000.000000\n",
       "                     Queens           10000.000000\n",
       "                     Staten Island       50.806956\n",
       "Prune                Bronx            10000.000000\n",
       "                     Brooklyn         10000.000000\n",
       "                     Manhattan          419.998565\n",
       "                     Queens           10000.000000\n",
       "                     Staten Island      432.500000\n",
       "Remove Debris        Bronx            10000.000000\n",
       "                     Brooklyn         10000.000000\n",
       "                     Manhattan         5002.262413\n",
       "                     Queens              49.565428\n",
       "                     Staten Island        1.584954\n",
       "Remove Stump         Bronx            10000.000000\n",
       "                     Brooklyn         10000.000000\n",
       "                     Manhattan          785.224884\n",
       "                     Queens           10000.000000\n",
       "                     Staten Island    10000.000000\n",
       "Remove Tree          Bronx            10000.000000\n",
       "                     Brooklyn         10000.000000\n",
       "                     Manhattan           96.555382\n",
       "                     Queens           10000.000000\n",
       "                     Staten Island      270.628877\n",
       "Rescue/Preservation  Bronx            10000.000000\n",
       "                     Brooklyn         10000.000000\n",
       "                     Manhattan           65.509155\n",
       "                     Queens           10000.000000\n",
       "                     Staten Island      174.417662\n",
       "Root/Sewer/Sidewalk  Bronx            10000.000000\n",
       "                     Brooklyn         10000.000000\n",
       "                     Manhattan        10000.000000\n",
       "                     Queens           10000.000000\n",
       "                     Staten Island    10000.000000\n",
       "Name: work_delay, dtype: float64"
      ]
     },
     "execution_count": 32,
     "metadata": {},
     "output_type": "execute_result"
    }
   ],
   "source": [
    "nodups_imputed.groupby(['SRCategory', 'Borough'])['work_delay'].median()"
   ]
  },
  {
   "attachments": {},
   "cell_type": "markdown",
   "metadata": {},
   "source": [
    "# Only look at 2017 - 2020 like in the paper, and other filtering (e.g., where reports are defined, subset of categories)"
   ]
  },
  {
   "cell_type": "code",
   "execution_count": 33,
   "metadata": {},
   "outputs": [],
   "source": [
    "# filter to categories that we're analysing in the paper\n",
    "nodups = nodups[nodups['SRCategory'].isin(['Hazard', 'Remove Tree', 'Root/Sewer/Sidewalk', 'Prune','Illegal Tree Damage'])]\n",
    "\n",
    "#if these fields are NA we didn't have data to calculate reporting delay\n",
    "nodups = nodups.dropna(subset = ['RiskRating', 'Borough', 'SRCategory', 'Risk_coded', 'InspectionTPCondition', 'TreePointDBH'])"
   ]
  },
  {
   "cell_type": "code",
   "execution_count": 34,
   "metadata": {},
   "outputs": [],
   "source": [
    "nodups_rightdate = nodups[(nodups['SRCreatedDate'] >= '2017-06-30') & (nodups['SRCreatedDate'] < '2020-07-01')]\n",
    "\n",
    "nodups_right_dateimputed = nodups_rightdate.copy()\n",
    "nodups_right_dateimputed.loc[:, 'work_delay'] = nodups_right_dateimputed['work_delay'].fillna(10000)\n",
    "# only look at inspected incidents\n",
    "nodups_right_dateimputed = nodups_right_dateimputed.dropna(subset = ['inspection_delay'])"
   ]
  },
  {
   "cell_type": "code",
   "execution_count": 35,
   "metadata": {},
   "outputs": [
    {
     "data": {
      "text/plain": [
       "Risk_coded  Borough      \n",
       "A           Bronx              8.653275\n",
       "            Brooklyn           1.000000\n",
       "            Manhattan          0.000000\n",
       "            Queens             4.772760\n",
       "            Staten Island      6.812720\n",
       "B           Bronx             28.421869\n",
       "            Brooklyn           3.618507\n",
       "            Manhattan          0.000000\n",
       "            Queens             4.706406\n",
       "            Staten Island     21.693009\n",
       "C           Bronx            102.726713\n",
       "            Brooklyn          59.002824\n",
       "            Manhattan          3.053131\n",
       "            Queens            73.636238\n",
       "            Staten Island    117.566898\n",
       "D           Bronx            111.060770\n",
       "            Brooklyn          46.612558\n",
       "            Manhattan         19.000000\n",
       "            Queens            48.733426\n",
       "            Staten Island    112.659404\n",
       "E           Bronx             57.583333\n",
       "            Brooklyn                NaN\n",
       "            Queens           740.541042\n",
       "Unknown     Bronx            130.092500\n",
       "            Brooklyn           9.396528\n",
       "            Manhattan          9.000000\n",
       "            Queens             4.923310\n",
       "            Staten Island      6.756528\n",
       "Name: work_delay, dtype: float64"
      ]
     },
     "execution_count": 35,
     "metadata": {},
     "output_type": "execute_result"
    }
   ],
   "source": [
    "nodups_rightdate.dropna(subset = ['inspection_delay']).groupby(['Risk_coded', 'Borough'])['work_delay'].median()"
   ]
  },
  {
   "cell_type": "code",
   "execution_count": 36,
   "metadata": {},
   "outputs": [
    {
     "data": {
      "text/plain": [
       "Risk_coded  Borough      \n",
       "A           Bronx               17.947153\n",
       "            Brooklyn             1.710914\n",
       "            Manhattan            0.000000\n",
       "            Queens               6.623079\n",
       "            Staten Island        8.247431\n",
       "B           Bronx               49.707627\n",
       "            Brooklyn             5.659699\n",
       "            Manhattan            0.000000\n",
       "            Queens               6.668970\n",
       "            Staten Island       27.348374\n",
       "C           Bronx              502.366065\n",
       "            Brooklyn           136.664236\n",
       "            Manhattan            5.000000\n",
       "            Queens             211.685579\n",
       "            Staten Island      192.484554\n",
       "D           Bronx            10000.000000\n",
       "            Brooklyn         10000.000000\n",
       "            Manhattan          126.041667\n",
       "            Queens           10000.000000\n",
       "            Staten Island    10000.000000\n",
       "E           Bronx            10000.000000\n",
       "            Brooklyn         10000.000000\n",
       "            Queens           10000.000000\n",
       "Unknown     Bronx              282.620972\n",
       "            Brooklyn            36.763137\n",
       "            Manhattan           46.500000\n",
       "            Queens               9.123559\n",
       "            Staten Island        7.186169\n",
       "Name: work_delay, dtype: float64"
      ]
     },
     "execution_count": 36,
     "metadata": {},
     "output_type": "execute_result"
    }
   ],
   "source": [
    "# with imputation\n",
    "nodups_right_dateimputed.groupby(['Risk_coded', 'Borough'])['work_delay'].median()"
   ]
  },
  {
   "attachments": {},
   "cell_type": "markdown",
   "metadata": {},
   "source": [
    "## Just split by year"
   ]
  },
  {
   "cell_type": "code",
   "execution_count": null,
   "metadata": {},
   "outputs": [],
   "source": [
    "(nodups['SRCreatedDate'] >= '2017-06-30') & (nodups['SRCreatedDate'] < '2020-07-01')"
   ]
  },
  {
   "cell_type": "code",
   "execution_count": 64,
   "metadata": {},
   "outputs": [
    {
     "name": "stdout",
     "output_type": "stream",
     "text": [
      "2017\n",
      "Risk_coded  Borough      \n",
      "A           Bronx               36.902662\n",
      "            Brooklyn             9.634063\n",
      "            Manhattan            0.000000\n",
      "            Queens              14.687199\n",
      "            Staten Island       27.815370\n",
      "B           Bronx              154.699178\n",
      "            Brooklyn            27.592471\n",
      "            Manhattan            0.000000\n",
      "            Queens              62.641331\n",
      "            Staten Island       41.858623\n",
      "C           Bronx             1066.328715\n",
      "            Brooklyn           136.154751\n",
      "            Manhattan            8.157078\n",
      "            Queens             484.679907\n",
      "            Staten Island      251.246111\n",
      "D           Bronx            10000.000000\n",
      "            Brooklyn         10000.000000\n",
      "            Manhattan           41.000000\n",
      "            Queens           10000.000000\n",
      "            Staten Island    10000.000000\n",
      "E           Queens             759.590324\n",
      "Unknown     Bronx              706.274936\n",
      "            Brooklyn           238.052222\n",
      "            Manhattan           59.520833\n",
      "            Queens              55.807060\n",
      "            Staten Island       21.916898\n",
      "Name: work_delay, dtype: float64\n",
      "2018\n",
      "Risk_coded  Borough      \n",
      "A           Bronx                5.545706\n",
      "            Brooklyn             0.638617\n",
      "            Manhattan            0.000000\n",
      "            Queens               1.811215\n",
      "            Staten Island        1.566956\n",
      "B           Bronx               26.862234\n",
      "            Brooklyn             2.702083\n",
      "            Manhattan            0.000000\n",
      "            Queens               4.683380\n",
      "            Staten Island       27.649745\n",
      "C           Bronx              354.742315\n",
      "            Brooklyn           139.565185\n",
      "            Manhattan            7.000000\n",
      "            Queens             200.679855\n",
      "            Staten Island      225.458472\n",
      "D           Bronx            10000.000000\n",
      "            Brooklyn         10000.000000\n",
      "            Manhattan          288.041667\n",
      "            Queens           10000.000000\n",
      "            Staten Island    10000.000000\n",
      "Unknown     Bronx              242.738611\n",
      "            Brooklyn             7.287946\n",
      "            Manhattan           38.000000\n",
      "            Queens               3.648368\n",
      "            Staten Island        2.589427\n",
      "Name: work_delay, dtype: float64\n",
      "2019\n",
      "Risk_coded  Borough      \n",
      "A           Bronx                0.062569\n",
      "            Brooklyn             0.545197\n",
      "            Manhattan            0.168796\n",
      "            Queens               1.000000\n",
      "            Staten Island        0.336169\n",
      "B           Bronx                6.872448\n",
      "            Brooklyn             1.708218\n",
      "            Manhattan            1.000000\n",
      "            Queens               3.228704\n",
      "            Staten Island        4.066597\n",
      "C           Bronx              192.736551\n",
      "            Brooklyn           158.827407\n",
      "            Manhattan            2.000000\n",
      "            Queens             142.301551\n",
      "            Staten Island      152.702014\n",
      "D           Bronx            10000.000000\n",
      "            Brooklyn         10000.000000\n",
      "            Manhattan          100.041667\n",
      "            Queens           10000.000000\n",
      "            Staten Island    10000.000000\n",
      "E           Bronx            10000.000000\n",
      "            Brooklyn         10000.000000\n",
      "            Queens           10000.000000\n",
      "Unknown     Bronx               75.697778\n",
      "            Brooklyn           135.635804\n",
      "            Manhattan            4.500000\n",
      "            Queens               6.797928\n",
      "            Staten Island        2.933924\n",
      "Name: work_delay, dtype: float64\n",
      "2020\n",
      "Risk_coded  Borough      \n",
      "A           Bronx               18.000000\n",
      "            Brooklyn             2.121464\n",
      "            Manhattan            0.000000\n",
      "            Queens               1.000000\n",
      "            Staten Island        2.383206\n",
      "B           Bronx                1.092072\n",
      "            Brooklyn             3.381991\n",
      "            Manhattan            1.000000\n",
      "            Queens               3.000000\n",
      "            Staten Island        3.000000\n",
      "C           Bronx              703.000000\n",
      "            Brooklyn            47.000000\n",
      "            Manhattan            7.485764\n",
      "            Queens             329.000000\n",
      "            Staten Island      120.994907\n",
      "D           Bronx            10000.000000\n",
      "            Brooklyn         10000.000000\n",
      "            Manhattan          235.041667\n",
      "            Queens           10000.000000\n",
      "            Staten Island    10000.000000\n",
      "Unknown     Bronx                0.467338\n",
      "            Brooklyn             6.006383\n",
      "            Manhattan        10000.000000\n",
      "            Queens              12.000000\n",
      "            Staten Island       28.000000\n",
      "Name: work_delay, dtype: float64\n"
     ]
    }
   ],
   "source": [
    "for year in range(2017, 2021):\n",
    "    print(year)\n",
    "    yearquery = f\"SRCreatedDate >= '{year}-01-01' and SRCreatedDate <= '{year}-12-31'\"\n",
    "    print(nodups_right_dateimputed.query(yearquery).groupby(['Risk_coded', 'Borough'])['work_delay'].median())"
   ]
  },
  {
   "cell_type": "code",
   "execution_count": 76,
   "metadata": {},
   "outputs": [
    {
     "data": {
      "text/plain": [
       "<Axes: xlabel='year', ylabel='work_delay'>"
      ]
     },
     "execution_count": 76,
     "metadata": {},
     "output_type": "execute_result"
    },
    {
     "data": {
      "image/png": "[encoded data removed]",
      "text/plain": [
       "<Figure size 640x480 with 1 Axes>"
      ]
     },
     "metadata": {},
     "output_type": "display_data"
    }
   ],
   "source": [
    "# # This plot shows the median delay for Risk code A and B incidents in each Borough and year.\n",
    "sns.lineplot(x = 'year', y = 'work_delay', hue = 'Borough', data = nodups_right_dateimputed.query('Risk_coded == \"A\"').groupby(['year','Borough'])['work_delay'].median().reset_index())"
   ]
  },
  {
   "cell_type": "code",
   "execution_count": null,
   "metadata": {},
   "outputs": [],
   "source": []
  }
 ],
 "metadata": {
  "kernelspec": {
   "display_name": "underreportreplicate",
   "language": "python",
   "name": "python3"
  },
  "language_info": {
   "codemirror_mode": {
    "name": "ipython",
    "version": 3
   },
   "file_extension": ".py",
   "mimetype": "text/x-python",
   "name": "python",
   "nbconvert_exporter": "python",
   "pygments_lexer": "ipython3",
   "version": "3.11.0"
  },
  "orig_nbformat": 4
 },
 "nbformat": 4,
 "nbformat_minor": 2
}
